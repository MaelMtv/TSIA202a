{
 "cells": [
  {
   "cell_type": "markdown",
   "metadata": {},
   "source": [
    "# TSIA202a - Second Practice Session : Spectral density estimation and periodogram\n",
    "The goal of this second session is to provide a power spectral density estimator of a real, zero-mean, weakly stationary process $X_t$. We suppose that we have access to $n$ observations and we will use the FFT algorithm (that implements the DFT) using `numpy.fft.module`.\n",
    "Recall (from the course) that the periodogram of the observations $X_0, \\dots, X_{n-1}$ can be given as:\n",
    "$$\n",
    "I_n(\\lambda) = \\frac{1}{2\\pi n}|\\sum_{k=0}^{n-1} X_k e^{i\\lambda k}|^2\n",
    "$$\n",
    "\n",
    "Moreover, the Hertglotz theorem provides a relation between the empirical autocovariance $\\hat{\\gamma}_n$ and the periodogram $I_n$:\n",
    "$$\n",
    "\\hat{\\gamma}_n(k) = \\int_{0}^{2\\pi}e^{i\\lambda k}I_n({\\lambda})d\\lambda\n",
    "$$\n",
    "\n",
    "1. For a given $m \\geq n$  we denote also the DFT as:\n",
    "$$\n",
    "DFT(X,m)(k) = \\sum_{h=0}^{n-1}X_he^{-2i\\pi\\frac{kh}{m}}\n",
    "$$\n",
    "Show the following relation: \n",
    "$$I_n(\\frac{2\\pi k}{m}) = \\frac{1}{2\\pi n} |DFT(X,m)(k)|^2$$\n",
    "2. provide a script that compute those $I_n(\\frac{2\\pi k}{m})$ for the time series mentioned in the first practice session\n",
    "3. Show that $I_n(\\lambda) = \\frac{1}{2\\pi} \\sum_{k=0}^{n-1} \\hat{\\gamma}_n(k)e^{-i\\lambda k}$\n",
    "4. How to choose $m$ in order to get a simple relation between $\\hat{\\gamma}_n(k)$ and $I_n(\\frac{2\\pi k}{m})$ ? At the end, given a specific $\\tilde{m}$ show that:\n",
    "$$\n",
    "\\hat{\\gamma}_n(k) = \\frac{1}{n} IDFT\\left(\\left|DFT(X, \\tilde{m})\\right|^2, \\tilde{m}\\right)(k)\n",
    "$$ Try this estimator on the autocovariance of previous time series of the first session.\n",
    "\n",
    "5. In the case of white noise, estimate the variance of the periodogram for several values of $n$ and discuss about it.\n",
    "\n",
    "\n"
   ]
  },
  {
   "cell_type": "code",
   "execution_count": 5,
   "metadata": {},
   "outputs": [
    {
     "data": {
      "image/png": "[encoded data removed]",
      "text/plain": [
       "<Figure size 640x480 with 1 Axes>"
      ]
     },
     "metadata": {},
     "output_type": "display_data"
    }
   ],
   "source": [
    "import numpy as np\n",
    "import matplotlib.pyplot as plt\n",
    "\n",
    "#Q2\n",
    "def I(X,k,m):\n",
    "    n = len(X[0])\n",
    "    f = np.fft.fft(X,m)\n",
    "    return 1/(2*np.pi*n)*abs(f[k])**2\n",
    "\n",
    "\n",
    "#Q5\n",
    "mu,sigma = 0,1\n",
    "N = 1000 # nombre d'echantillons max de X\n",
    "X=np.random.normal(mu,sigma,N)\n",
    "\n",
    "\n",
    "def s(l,n,X):\n",
    "    p = np.zeros(N, dtype= 'complex_')\n",
    "    for i in range(n):\n",
    "        p[i] += np.exp(1j*l*i)\n",
    "    s = np.array(p)*X\n",
    "    s = np.sum(s)\n",
    "    return abs(s)\n",
    "\n",
    "I=[[1/(2*np.pi*(n))*s(l,n,X)**2 for l in range(N) ] for n in range(1,N+1)]#chaque ligne est un I_n(l) pour l de 0 à N-1 et on augmente n de 1 à chaque ligne, pour aller de 1 à N\n",
    "\n",
    "def plot5(I):\n",
    "    x = range(1,N+1)\n",
    "    y = [1/(i)*(np.fft.ifft(abs(np.fft.fft(I[i-1],i))**2,i)[0]) for i in range(1,N+1)]\n",
    "    plt.clf()\n",
    "    plt.plot(x,y)\n",
    "    plt.xlabel('n')\n",
    "    plt.xticks([1,1000])\n",
    "    plt.ylabel('Var(I_n)')\n",
    "    plt.show()\n",
    "\n",
    "plot5(I)\n",
    "\n"
   ]
  },
  {
   "cell_type": "markdown",
   "metadata": {},
   "source": [
    "The periodofram is an estimation of the spectral density of a signal. A white noise has a constant spectral density and as n goes to infinity the periodogram with n terms converges towards the spectral density. Since the variance of the periodogram goes to 0 as n goes to infinity it means that the periodogram is becoming closer and closer to a constant function of $\\lambda$. This confirms the previous result: the spectral density of a white noise is indeed constant."
   ]
  }
 ],
 "metadata": {
  "kernelspec": {
   "display_name": "Python 3",
   "language": "python",
   "name": "python3"
  },
  "language_info": {
   "codemirror_mode": {
    "name": "ipython",
    "version": 3
   },
   "file_extension": ".py",
   "mimetype": "text/x-python",
   "name": "python",
   "nbconvert_exporter": "python",
   "pygments_lexer": "ipython3",
   "version": "3.11.4"
  },
  "orig_nbformat": 4
 },
 "nbformat": 4,
 "nbformat_minor": 2
}
